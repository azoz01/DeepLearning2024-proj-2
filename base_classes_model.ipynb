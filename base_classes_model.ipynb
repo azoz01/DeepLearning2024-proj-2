{
 "cells": [
  {
   "cell_type": "code",
   "execution_count": 3,
   "id": "ebbc3fad-ba9f-4a0b-804e-a88a0761468b",
   "metadata": {
    "scrolled": true
   },
   "outputs": [],
   "source": [
    "# !pip install gdown\n",
    "# !gdown --folder https://drive.google.com/drive/folders/18fbeQOzN4BMn09LPnFgWflhTP-r9JJrc?usp=sharing\n",
    "# !pip install -r requirements.txt"
   ]
  },
  {
   "cell_type": "code",
   "execution_count": 1,
   "id": "19f0d612-020d-4599-8c9f-629fc20874be",
   "metadata": {},
   "outputs": [
    {
     "name": "stderr",
     "output_type": "stream",
     "text": [
      "Seed set to 123\n"
     ]
    },
    {
     "data": {
      "text/plain": [
       "123"
      ]
     },
     "execution_count": 1,
     "metadata": {},
     "output_type": "execute_result"
    }
   ],
   "source": [
    "import pytorch_lightning as pl\n",
    "import torch\n",
    "\n",
    "from pytorch_lightning.callbacks import EarlyStopping, ModelCheckpoint\n",
    "\n",
    "from engine.attention import AttentionAudioClassifier\n",
    "from engine.data import get_main_classes_loader\n",
    "\n",
    "torch.set_float32_matmul_precision(\"high\")\n",
    "pl.seed_everything(123)"
   ]
  },
  {
   "cell_type": "code",
   "execution_count": 2,
   "id": "ca3f86db-e733-478f-b35f-365e7137fcbf",
   "metadata": {},
   "outputs": [],
   "source": [
    "train_loader = get_main_classes_loader(\"train\", oversample_silence=True)\n",
    "val_loader = get_main_classes_loader(\"val\")\n",
    "test_loader = get_main_classes_loader(\"test\")"
   ]
  },
  {
   "cell_type": "code",
   "execution_count": 3,
   "id": "2c032e6e-efa4-43ca-a785-0b06eb06f601",
   "metadata": {},
   "outputs": [],
   "source": [
    "EMBEDDING_SIZE = 80"
   ]
  },
  {
   "cell_type": "code",
   "execution_count": null,
   "id": "812de5a6-41fa-47c8-ac9c-118191f16a68",
   "metadata": {},
   "outputs": [
    {
     "name": "stderr",
     "output_type": "stream",
     "text": [
      "GPU available: True (cuda), used: True\n",
      "TPU available: False, using: 0 TPU cores\n",
      "IPU available: False, using: 0 IPUs\n",
      "HPU available: False, using: 0 HPUs\n",
      "LOCAL_RANK: 0 - CUDA_VISIBLE_DEVICES: [0]\n",
      "\n",
      "  | Name       | Type             | Params\n",
      "------------------------------------------------\n",
      "0 | encoder    | AudioEncoder     | 11.4 M\n",
      "1 | classifier | Sequential       | 6.6 M \n",
      "2 | loss       | CrossEntropyLoss | 0     \n",
      "------------------------------------------------\n",
      "18.0 M    Trainable params\n",
      "0         Non-trainable params\n",
      "18.0 M    Total params\n",
      "71.907    Total estimated model params size (MB)\n"
     ]
    },
    {
     "data": {
      "application/vnd.jupyter.widget-view+json": {
       "model_id": "",
       "version_major": 2,
       "version_minor": 0
      },
      "text/plain": [
       "Sanity Checking: |          | 0/? [00:00<?, ?it/s]"
      ]
     },
     "metadata": {},
     "output_type": "display_data"
    },
    {
     "name": "stderr",
     "output_type": "stream",
     "text": [
      "/usr/local/lib/python3.10/dist-packages/pytorch_lightning/trainer/connectors/data_connector.py:441: The 'val_dataloader' does not have many workers which may be a bottleneck. Consider increasing the value of the `num_workers` argument` to `num_workers=55` in the `DataLoader` to improve performance.\n",
      "/usr/local/lib/python3.10/dist-packages/sklearn/metrics/_classification.py:2458: UserWarning: y_pred contains classes not in y_true\n",
      "  warnings.warn(\"y_pred contains classes not in y_true\")\n",
      "/usr/local/lib/python3.10/dist-packages/pytorch_lightning/trainer/connectors/data_connector.py:441: The 'train_dataloader' does not have many workers which may be a bottleneck. Consider increasing the value of the `num_workers` argument` to `num_workers=55` in the `DataLoader` to improve performance.\n"
     ]
    },
    {
     "data": {
      "application/vnd.jupyter.widget-view+json": {
       "model_id": "3743cdb5b46d4d1cb03f3c713171112c",
       "version_major": 2,
       "version_minor": 0
      },
      "text/plain": [
       "Training: |          | 0/? [00:00<?, ?it/s]"
      ]
     },
     "metadata": {},
     "output_type": "display_data"
    },
    {
     "data": {
      "application/vnd.jupyter.widget-view+json": {
       "model_id": "",
       "version_major": 2,
       "version_minor": 0
      },
      "text/plain": [
       "Validation: |          | 0/? [00:00<?, ?it/s]"
      ]
     },
     "metadata": {},
     "output_type": "display_data"
    },
    {
     "data": {
      "application/vnd.jupyter.widget-view+json": {
       "model_id": "",
       "version_major": 2,
       "version_minor": 0
      },
      "text/plain": [
       "Validation: |          | 0/? [00:00<?, ?it/s]"
      ]
     },
     "metadata": {},
     "output_type": "display_data"
    },
    {
     "data": {
      "application/vnd.jupyter.widget-view+json": {
       "model_id": "",
       "version_major": 2,
       "version_minor": 0
      },
      "text/plain": [
       "Validation: |          | 0/? [00:00<?, ?it/s]"
      ]
     },
     "metadata": {},
     "output_type": "display_data"
    },
    {
     "data": {
      "application/vnd.jupyter.widget-view+json": {
       "model_id": "",
       "version_major": 2,
       "version_minor": 0
      },
      "text/plain": [
       "Validation: |          | 0/? [00:00<?, ?it/s]"
      ]
     },
     "metadata": {},
     "output_type": "display_data"
    },
    {
     "data": {
      "application/vnd.jupyter.widget-view+json": {
       "model_id": "",
       "version_major": 2,
       "version_minor": 0
      },
      "text/plain": [
       "Validation: |          | 0/? [00:00<?, ?it/s]"
      ]
     },
     "metadata": {},
     "output_type": "display_data"
    },
    {
     "data": {
      "application/vnd.jupyter.widget-view+json": {
       "model_id": "",
       "version_major": 2,
       "version_minor": 0
      },
      "text/plain": [
       "Validation: |          | 0/? [00:00<?, ?it/s]"
      ]
     },
     "metadata": {},
     "output_type": "display_data"
    },
    {
     "data": {
      "application/vnd.jupyter.widget-view+json": {
       "model_id": "",
       "version_major": 2,
       "version_minor": 0
      },
      "text/plain": [
       "Validation: |          | 0/? [00:00<?, ?it/s]"
      ]
     },
     "metadata": {},
     "output_type": "display_data"
    },
    {
     "data": {
      "application/vnd.jupyter.widget-view+json": {
       "model_id": "",
       "version_major": 2,
       "version_minor": 0
      },
      "text/plain": [
       "Validation: |          | 0/? [00:00<?, ?it/s]"
      ]
     },
     "metadata": {},
     "output_type": "display_data"
    },
    {
     "data": {
      "application/vnd.jupyter.widget-view+json": {
       "model_id": "",
       "version_major": 2,
       "version_minor": 0
      },
      "text/plain": [
       "Validation: |          | 0/? [00:00<?, ?it/s]"
      ]
     },
     "metadata": {},
     "output_type": "display_data"
    },
    {
     "data": {
      "application/vnd.jupyter.widget-view+json": {
       "model_id": "",
       "version_major": 2,
       "version_minor": 0
      },
      "text/plain": [
       "Validation: |          | 0/? [00:00<?, ?it/s]"
      ]
     },
     "metadata": {},
     "output_type": "display_data"
    }
   ],
   "source": [
    "callbacks = [\n",
    "    EarlyStopping(\n",
    "        monitor=\"val_balanced_accuracy\",\n",
    "        mode=\"max\",\n",
    "        patience=10,\n",
    "        min_delta=1e-5,\n",
    "    ),\n",
    "    ModelCheckpoint(\n",
    "        save_top_k=1,\n",
    "        monitor=\"val_accuracy\",\n",
    "        filename=\"model-{epoch}-{val_accuracy:.2f}\",\n",
    "        mode=\"max\",\n",
    "        every_n_epochs=1\n",
    "    )\n",
    "]\n",
    "\n",
    "model = AttentionAudioClassifier(3, 100, EMBEDDING_SIZE, 512, 4, 4).cuda()\n",
    "trainer = pl.Trainer(\n",
    "    max_epochs=100,\n",
    "    callbacks=callbacks,\n",
    "    gradient_clip_val=1,\n",
    "    gradient_clip_algorithm=\"norm\"\n",
    ")\n",
    "trainer.fit(model, train_loader, val_loader)"
   ]
  },
  {
   "cell_type": "code",
   "execution_count": 15,
   "id": "b97a82fe-b41d-408e-86f3-7f8144f6dcfc",
   "metadata": {},
   "outputs": [],
   "source": [
    "# best_model = AttentionAudioClassifier.load_from_checkpoint(\"lightning_logs/version_1/checkpoints/model-epoch=35-val_accuracy=0.92.ckpt\")"
   ]
  },
  {
   "cell_type": "code",
   "execution_count": 27,
   "id": "375f36c3-2cc2-47ff-a7be-5337ab28db93",
   "metadata": {},
   "outputs": [],
   "source": [
    "labels = []\n",
    "predictions = []\n",
    "for X, y in test_loader:\n",
    "    y_pred = best_model(X).argmax(dim=1)\n",
    "    labels.append(y)\n",
    "    predictions.append(y_pred)\n",
    "labels = torch.concat(labels, dim=0).cpu().numpy()\n",
    "predictions = torch.concat(predictions, dim=0).cpu().numpy()"
   ]
  },
  {
   "cell_type": "code",
   "execution_count": 29,
   "id": "2bd25ddc-690a-4f9a-81e8-64e385ba4328",
   "metadata": {},
   "outputs": [],
   "source": [
    "from sklearn.metrics import confusion_matrix"
   ]
  },
  {
   "cell_type": "code",
   "execution_count": 30,
   "id": "ada54df2-76bc-4e14-82b8-09668cbbbf21",
   "metadata": {},
   "outputs": [
    {
     "data": {
      "text/plain": [
       "array([[2227,  337,    3],\n",
       "       [ 254, 4012,    2],\n",
       "       [  40,   15,  269]])"
      ]
     },
     "execution_count": 30,
     "metadata": {},
     "output_type": "execute_result"
    }
   ],
   "source": [
    "confusion_matrix(labels, predictions)"
   ]
  },
  {
   "cell_type": "code",
   "execution_count": 36,
   "id": "d5bdf6eb-0196-4ad8-856e-8ff7f63c71d0",
   "metadata": {},
   "outputs": [
    {
     "data": {
      "text/plain": [
       "Counter({1: 4268, 0: 2567, 2: 324})"
      ]
     },
     "execution_count": 36,
     "metadata": {},
     "output_type": "execute_result"
    }
   ],
   "source": [
    "from collections import Counter\n",
    "Counter(labels)"
   ]
  },
  {
   "cell_type": "code",
   "execution_count": 33,
   "id": "ecff69ff-e8ef-4fc5-b192-43aad678eac2",
   "metadata": {},
   "outputs": [
    {
     "data": {
      "text/plain": [
       "Counter({1: 4364, 0: 2521, 2: 274})"
      ]
     },
     "execution_count": 33,
     "metadata": {},
     "output_type": "execute_result"
    }
   ],
   "source": [
    "from collections import Counter\n",
    "Counter(predictions)"
   ]
  },
  {
   "cell_type": "code",
   "execution_count": 34,
   "id": "aeca3534-3062-4862-aa57-70be8bad7511",
   "metadata": {},
   "outputs": [],
   "source": [
    "import json\n",
    "with open(\"data/converted/test_labels.json\", \"r\") as f:\n",
    "    l = json.load(f)"
   ]
  },
  {
   "cell_type": "code",
   "execution_count": 37,
   "id": "95a6fb7e-a280-42d1-9dd1-b06fcb925423",
   "metadata": {},
   "outputs": [
    {
     "data": {
      "text/plain": [
       "Counter({9: 4268,\n",
       "         7: 324,\n",
       "         10: 272,\n",
       "         2: 267,\n",
       "         4: 262,\n",
       "         6: 259,\n",
       "         11: 256,\n",
       "         0: 253,\n",
       "         3: 252,\n",
       "         1: 251,\n",
       "         8: 249,\n",
       "         5: 246})"
      ]
     },
     "execution_count": 37,
     "metadata": {},
     "output_type": "execute_result"
    }
   ],
   "source": [
    "Counter(l)"
   ]
  },
  {
   "cell_type": "code",
   "execution_count": 39,
   "id": "fd540f71-6937-4b4a-a7db-c99810d649f4",
   "metadata": {},
   "outputs": [
    {
     "data": {
      "text/plain": [
       "{0: 'down',\n",
       " 1: 'go',\n",
       " 2: 'left',\n",
       " 3: 'no',\n",
       " 4: 'off',\n",
       " 5: 'on',\n",
       " 6: 'right',\n",
       " 7: 'silence',\n",
       " 8: 'stop',\n",
       " 9: 'unknown',\n",
       " 10: 'up',\n",
       " 11: 'yes'}"
      ]
     },
     "execution_count": 39,
     "metadata": {},
     "output_type": "execute_result"
    }
   ],
   "source": [
    "import pickle as pkl\n",
    "with open(\"data/converted/encoder.pkl\", \"rb\") as f:\n",
    "    encoder = pkl.load(f)\n",
    "dict(zip(list(range(12)), encoder.inverse_transform(list(range(12)))))"
   ]
  }
 ],
 "metadata": {
  "kernelspec": {
   "display_name": "Python 3 (ipykernel)",
   "language": "python",
   "name": "python3"
  },
  "language_info": {
   "codemirror_mode": {
    "name": "ipython",
    "version": 3
   },
   "file_extension": ".py",
   "mimetype": "text/x-python",
   "name": "python",
   "nbconvert_exporter": "python",
   "pygments_lexer": "ipython3",
   "version": "3.10.12"
  }
 },
 "nbformat": 4,
 "nbformat_minor": 5
}
