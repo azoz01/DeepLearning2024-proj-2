{
 "cells": [
  {
   "cell_type": "code",
   "execution_count": 1,
   "metadata": {},
   "outputs": [],
   "source": [
    "from engine.data import get_commands_loader, get_main_classes_loader\n",
    "\n",
    "import torch"
   ]
  },
  {
   "cell_type": "code",
   "execution_count": 2,
   "metadata": {},
   "outputs": [
    {
     "data": {
      "text/plain": [
       "(tensor([ 0,  1,  2,  3,  4,  5,  6,  8, 10, 11], device='cuda:0'),\n",
       " tensor([1842, 1861, 1839, 1853, 1839, 1864, 1852, 1885, 1843, 1860],\n",
       "        device='cuda:0'))"
      ]
     },
     "execution_count": 2,
     "metadata": {},
     "output_type": "execute_result"
    }
   ],
   "source": [
    "loader = get_commands_loader('train')\n",
    "\n",
    "ys = []\n",
    "\n",
    "for X, y in loader:\n",
    "    ys.append(y)\n",
    "    \n",
    "ys = torch.concat(ys)\n",
    "\n",
    "ys.unique(return_counts=True)"
   ]
  },
  {
   "cell_type": "code",
   "execution_count": 3,
   "metadata": {},
   "outputs": [
    {
     "data": {
      "text/plain": [
       "(tensor([0, 1, 2], device='cuda:0'),\n",
       " tensor([18538, 32550,  2430], device='cuda:0'))"
      ]
     },
     "execution_count": 3,
     "metadata": {},
     "output_type": "execute_result"
    }
   ],
   "source": [
    "loader = get_main_classes_loader('train')\n",
    "\n",
    "ys = []\n",
    "\n",
    "for X, y in loader:\n",
    "    ys.append(y)\n",
    "    \n",
    "ys = torch.concat(ys)\n",
    "\n",
    "ys.unique(return_counts=True)"
   ]
  }
 ],
 "metadata": {
  "kernelspec": {
   "display_name": "dl",
   "language": "python",
   "name": "python3"
  },
  "language_info": {
   "codemirror_mode": {
    "name": "ipython",
    "version": 3
   },
   "file_extension": ".py",
   "mimetype": "text/x-python",
   "name": "python",
   "nbconvert_exporter": "python",
   "pygments_lexer": "ipython3",
   "version": "3.10.14"
  }
 },
 "nbformat": 4,
 "nbformat_minor": 2
}
