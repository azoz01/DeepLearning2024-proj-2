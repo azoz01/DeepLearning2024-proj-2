{
 "cells": [
  {
   "cell_type": "code",
   "execution_count": 1,
   "metadata": {},
   "outputs": [],
   "source": [
    "import os\n",
    "os.chdir(\"..\")"
   ]
  },
  {
   "cell_type": "code",
   "execution_count": 2,
   "metadata": {
    "scrolled": true
   },
   "outputs": [
    {
     "ename": "ModuleNotFoundError",
     "evalue": "No module named 'matplotlib'",
     "output_type": "error",
     "traceback": [
      "\u001b[0;31m---------------------------------------------------------------------------\u001b[0m",
      "\u001b[0;31mModuleNotFoundError\u001b[0m                       Traceback (most recent call last)",
      "Cell \u001b[0;32mIn[2], line 1\u001b[0m\n\u001b[0;32m----> 1\u001b[0m \u001b[38;5;28;01mimport\u001b[39;00m \u001b[38;5;21;01mmatplotlib\u001b[39;00m\u001b[38;5;21;01m.\u001b[39;00m\u001b[38;5;21;01mpyplot\u001b[39;00m \u001b[38;5;28;01mas\u001b[39;00m \u001b[38;5;21;01mplt\u001b[39;00m\n\u001b[1;32m      2\u001b[0m \u001b[38;5;28;01mimport\u001b[39;00m \u001b[38;5;21;01mnumpy\u001b[39;00m \u001b[38;5;28;01mas\u001b[39;00m \u001b[38;5;21;01mnp\u001b[39;00m\n\u001b[1;32m      3\u001b[0m \u001b[38;5;28;01mimport\u001b[39;00m \u001b[38;5;21;01mseaborn\u001b[39;00m \u001b[38;5;28;01mas\u001b[39;00m \u001b[38;5;21;01msns\u001b[39;00m\n",
      "\u001b[0;31mModuleNotFoundError\u001b[0m: No module named 'matplotlib'"
     ]
    }
   ],
   "source": [
    "import matplotlib.pyplot as plt\n",
    "import numpy as np\n",
    "import seaborn as sns\n",
    "\n",
    "from pathlib import Path\n",
    "from sklearn.metrics import confusion_matrix, ConfusionMatrixDisplay\n",
    "from typing import Dict\n",
    "\n",
    "from engine.attention import AttentionAudioClassifier\n",
    "from engine.data import get_data_loader, get_label_mapping, get_main_classes_loader, get_commands_loader\n",
    "\n",
    "plt.xticks(rotation=90)\n",
    "plt.clf()"
   ]
  },
  {
   "cell_type": "code",
   "execution_count": null,
   "metadata": {},
   "outputs": [],
   "source": [
    "def get_labels_and_predictions(model, loader):\n",
    "    all_labels, all_predictions = [], []\n",
    "    for X, y in loader:\n",
    "        prediction = model(X).argmax(dim=1)\n",
    "        all_labels.append(y.cpu().numpy())\n",
    "        all_predictions.append(prediction.cpu().numpy())\n",
    "    labels = np.concatenate(all_labels)\n",
    "    predictions = np.concatenate(all_predictions)\n",
    "    return labels, predictions"
   ]
  },
  {
   "cell_type": "code",
   "execution_count": null,
   "metadata": {},
   "outputs": [],
   "source": [
    "def get_composed_model_labels_and_predictions(main_model, command_model, loader):\n",
    "    all_labels, all_predictions = [], []\n",
    "    for X, y in loader:\n",
    "        prediction = main_model(X).argmax(dim=1)\n",
    "        if (prediction == COMMAND_LABEL).sum() > 0:\n",
    "            prediction[prediction == COMMAND_LABEL] = commands_model(X[prediction == COMMAND_LABEL]).argmax(dim=1)\n",
    "        all_labels.append(y.cpu().numpy())\n",
    "        all_predictions.append(prediction.cpu().numpy())\n",
    "    labels = np.concatenate(all_labels)\n",
    "    predictions = np.concatenate(all_predictions)\n",
    "    return labels, predictions"
   ]
  },
  {
   "cell_type": "markdown",
   "metadata": {},
   "source": [
    "## All labels"
   ]
  },
  {
   "cell_type": "code",
   "execution_count": null,
   "metadata": {},
   "outputs": [],
   "source": [
    "## Load\n",
    "models_paths = list(Path(\"results/attention_all_classes\").rglob(\"*.ckpt\"))\n",
    "loader = get_data_loader(\"test\")"
   ]
  },
  {
   "cell_type": "code",
   "execution_count": null,
   "metadata": {},
   "outputs": [],
   "source": [
    "## Get accuracies\n",
    "accuracies_all_labels = []\n",
    "for path in models_paths:\n",
    "    model = AttentionAudioClassifier.load_from_checkpoint(path)\n",
    "    labels, predictions = get_labels_and_predictions(model, loader)\n",
    "    accuracies_all_labels.append((labels == predictions).mean())"
   ]
  },
  {
   "cell_type": "code",
   "execution_count": null,
   "metadata": {},
   "outputs": [],
   "source": [
    "# Confusion matrix\n",
    "best_model_path = models_paths[np.argmax(accuracies_all_labels)]\n",
    "best_model = AttentionAudioClassifier.load_from_checkpoint(best_model_path)\n",
    "labels, predictions = get_labels_and_predictions(model, loader)\n",
    "\n",
    "mapping = get_label_mapping(\"all\")\n",
    "matrix = confusion_matrix(labels, predictions)\n",
    "matrix = (matrix.T / matrix.sum(axis=1)).T\n",
    "display_labels=[mapping[label] for label in sorted(np.unique(labels))]\n",
    "\n",
    "fig, ax = plt.subplots(figsize=(12, 12))\n",
    "sns.heatmap(matrix, ax=ax, annot=True, cmap=sns.light_palette(\"seagreen\", as_cmap=True))\n",
    "ax.set_xticklabels(display_labels, rotation=90)\n",
    "ax.set_title(\"Confusion matrix of attention model on all labels\")"
   ]
  },
  {
   "cell_type": "markdown",
   "metadata": {},
   "source": [
    "## Main classes"
   ]
  },
  {
   "cell_type": "code",
   "execution_count": null,
   "metadata": {},
   "outputs": [],
   "source": [
    "## Load\n",
    "models_paths = list(Path(\"results/attention_main_classes\").rglob(\"*.ckpt\"))\n",
    "loader = get_main_classes_loader(\"test\")"
   ]
  },
  {
   "cell_type": "code",
   "execution_count": null,
   "metadata": {},
   "outputs": [],
   "source": [
    "## Get accuracies\n",
    "accuracies_main_labels = []\n",
    "for path in models_paths:\n",
    "    model = AttentionAudioClassifier.load_from_checkpoint(path)\n",
    "    labels, predictions = get_labels_and_predictions(model, loader)\n",
    "    accuracies_main_labels.append((labels == predictions).mean())"
   ]
  },
  {
   "cell_type": "code",
   "execution_count": null,
   "metadata": {},
   "outputs": [],
   "source": [
    "# Confusion matrix\n",
    "best_model_path = models_paths[np.argmax(accuracies_main_labels)]\n",
    "best_model = AttentionAudioClassifier.load_from_checkpoint(best_model_path)\n",
    "labels, predictions = get_labels_and_predictions(model, loader)\n",
    "\n",
    "mapping = get_label_mapping(\"main\")\n",
    "matrix = confusion_matrix(labels, predictions)\n",
    "matrix = (matrix.T / matrix.sum(axis=1)).T\n",
    "display_labels=[mapping[label] for label in sorted(np.unique(labels))]\n",
    "\n",
    "fig, ax = plt.subplots(figsize=(4, 4))\n",
    "sns.heatmap(matrix, ax=ax, annot=True, cmap=sns.light_palette(\"seagreen\", as_cmap=True))\n",
    "ax.set_xticklabels(display_labels, rotation=90)\n",
    "ax.set_title(\"Confusion matrix of attention model on main labels\")"
   ]
  },
  {
   "cell_type": "markdown",
   "metadata": {},
   "source": [
    "## Commands only"
   ]
  },
  {
   "cell_type": "code",
   "execution_count": null,
   "metadata": {},
   "outputs": [],
   "source": [
    "## Load\n",
    "models_paths = list(Path(\"results/attention_commands_only\").rglob(\"*.ckpt\"))\n",
    "loader = get_commands_loader(\"test\")"
   ]
  },
  {
   "cell_type": "code",
   "execution_count": null,
   "metadata": {},
   "outputs": [],
   "source": [
    "## Get accuracies\n",
    "accuracies_commands_labels = []\n",
    "for path in models_paths:\n",
    "    model = AttentionAudioClassifier.load_from_checkpoint(path)\n",
    "    labels, predictions = get_labels_and_predictions(model, loader)\n",
    "    accuracies_commands_labels.append((labels == predictions).mean())"
   ]
  },
  {
   "cell_type": "code",
   "execution_count": null,
   "metadata": {},
   "outputs": [],
   "source": [
    "# Confusion matrix\n",
    "best_model_path = models_paths[np.argmax(accuracies_commands_labels)]\n",
    "best_model = AttentionAudioClassifier.load_from_checkpoint(best_model_path)\n",
    "labels, predictions = get_labels_and_predictions(model, loader)\n",
    "\n",
    "mapping = get_label_mapping(\"commands_only\")\n",
    "matrix = confusion_matrix(labels, predictions)\n",
    "matrix = (matrix.T / matrix.sum(axis=1)).T\n",
    "display_labels=[mapping[label] for label in sorted(np.unique(labels))]\n",
    "\n",
    "fig, ax = plt.subplots(figsize=(12, 12))\n",
    "sns.heatmap(matrix, ax=ax, annot=True, cmap=sns.light_palette(\"seagreen\", as_cmap=True))\n",
    "ax.set_xticklabels(display_labels, rotation=90)\n",
    "ax.set_title(\"Confusion matrix of attention model on only commands\")"
   ]
  },
  {
   "cell_type": "markdown",
   "metadata": {},
   "source": [
    "## Composed model"
   ]
  },
  {
   "cell_type": "code",
   "execution_count": 5,
   "metadata": {},
   "outputs": [
    {
     "ename": "ModuleNotFoundError",
     "evalue": "No module named 'sklearn'",
     "output_type": "error",
     "traceback": [
      "\u001b[0;31m---------------------------------------------------------------------------\u001b[0m",
      "\u001b[0;31mModuleNotFoundError\u001b[0m                       Traceback (most recent call last)",
      "Cell \u001b[0;32mIn[5], line 3\u001b[0m\n\u001b[1;32m      1\u001b[0m \u001b[38;5;28;01mimport\u001b[39;00m \u001b[38;5;21;01mpickle\u001b[39;00m \u001b[38;5;28;01mas\u001b[39;00m \u001b[38;5;21;01mpkl\u001b[39;00m\n\u001b[1;32m      2\u001b[0m \u001b[38;5;28;01mwith\u001b[39;00m \u001b[38;5;28mopen\u001b[39m(\u001b[38;5;124m\"\u001b[39m\u001b[38;5;124m../data/converted/encoder.pkl\u001b[39m\u001b[38;5;124m\"\u001b[39m, \u001b[38;5;124m\"\u001b[39m\u001b[38;5;124mrb\u001b[39m\u001b[38;5;124m\"\u001b[39m) \u001b[38;5;28;01mas\u001b[39;00m f:\n\u001b[0;32m----> 3\u001b[0m     encoder \u001b[38;5;241m=\u001b[39m \u001b[43mpkl\u001b[49m\u001b[38;5;241;43m.\u001b[39;49m\u001b[43mload\u001b[49m\u001b[43m(\u001b[49m\u001b[43mf\u001b[49m\u001b[43m)\u001b[49m\n",
      "\u001b[0;31mModuleNotFoundError\u001b[0m: No module named 'sklearn'"
     ]
    }
   ],
   "source": [
    "import pickle as pkl\n",
    "with open(\"../data/converted/encoder.pkl\", \"rb\") as f:\n",
    "    encoder = pkl.load(f)"
   ]
  },
  {
   "cell_type": "code",
   "execution_count": 1,
   "metadata": {},
   "outputs": [],
   "source": [
    "COMMAND_LABEL = 0"
   ]
  },
  {
   "cell_type": "code",
   "execution_count": null,
   "metadata": {},
   "outputs": [],
   "source": [
    "## Load\n",
    "main_models_paths = list(Path(\"results/attention_main_classes\").rglob(\"*.ckpt\"))\n",
    "commands_models_paths = list(Path(\"results/attention_commands_only\").rglob(\"*.ckpt\"))\n",
    "loader = get_data_loader(\"test\")"
   ]
  },
  {
   "cell_type": "code",
   "execution_count": null,
   "metadata": {},
   "outputs": [],
   "source": [
    "accuracies_composed_model = []\n",
    "\n",
    "for main_model_path, commands_model_path in zip(main_models_paths, commands_models_path):\n",
    "    main_model = AttentionAudioClassifier.load_from_checkpoint(main_model_path)\n",
    "    commands_model = AttentionAudioClassifier.load_from_checkpoint(commands_model_path)\n",
    "    accuracies_composed_model.append(\n",
    "        get_composed_model_labels_and_predictions(main_model, composed_model, loader)\n",
    "    )"
   ]
  },
  {
   "cell_type": "code",
   "execution_count": null,
   "metadata": {},
   "outputs": [],
   "source": [
    "# Confusion matrix\n",
    "best_model_idx = np.argmax(accuracies_composed_model)\n",
    "best_main_model = AttentionAudioClassifier.load_from_checkpoint(main_models_paths[best_model_idx])\n",
    "best_commands_model = AttentionAudioClassifier.load_from_checkpoint(commands_models_paths[best_model_idx])\n",
    "labels, predictions = get_composed_model_labels_and_predictions(best_main_model, best_commands_model, loader)\n",
    "\n",
    "mapping = get_label_mapping(\"all\")\n",
    "matrix = confusion_matrix(labels, predictions)\n",
    "matrix = (matrix.T / matrix.sum(axis=1)).T\n",
    "display_labels=[mapping[label] for label in sorted(np.unique(labels))]\n",
    "\n",
    "fig, ax = plt.subplots(figsize=(12, 12))\n",
    "sns.heatmap(matrix, ax=ax, annot=True, cmap=sns.light_palette(\"seagreen\", as_cmap=True))\n",
    "ax.set_xticklabels(display_labels, rotation=90)\n",
    "ax.set_title(\"Confusion matrix of composed attention model\")"
   ]
  }
 ],
 "metadata": {
  "kernelspec": {
   "display_name": "Python 3 (ipykernel)",
   "language": "python",
   "name": "python3"
  },
  "language_info": {
   "codemirror_mode": {
    "name": "ipython",
    "version": 3
   },
   "file_extension": ".py",
   "mimetype": "text/x-python",
   "name": "python",
   "nbconvert_exporter": "python",
   "pygments_lexer": "ipython3",
   "version": "3.10.12"
  }
 },
 "nbformat": 4,
 "nbformat_minor": 4
}
