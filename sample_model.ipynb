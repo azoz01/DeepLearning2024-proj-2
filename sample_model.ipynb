{
 "cells": [
  {
   "cell_type": "code",
   "execution_count": 1,
   "id": "ebbc3fad-ba9f-4a0b-804e-a88a0761468b",
   "metadata": {
    "scrolled": true
   },
   "outputs": [
    {
     "name": "stdout",
     "output_type": "stream",
     "text": [
      "Collecting gdown\n",
      "  Downloading gdown-5.1.0-py3-none-any.whl.metadata (5.7 kB)\n",
      "Requirement already satisfied: beautifulsoup4 in /home/dawid/miniconda3/envs/dl/lib/python3.12/site-packages (from gdown) (4.12.3)\n",
      "Requirement already satisfied: filelock in /home/dawid/miniconda3/envs/dl/lib/python3.12/site-packages (from gdown) (3.13.1)\n",
      "Requirement already satisfied: requests[socks] in /home/dawid/miniconda3/envs/dl/lib/python3.12/site-packages (from gdown) (2.31.0)\n",
      "Requirement already satisfied: tqdm in /home/dawid/miniconda3/envs/dl/lib/python3.12/site-packages (from gdown) (4.66.2)\n",
      "Requirement already satisfied: soupsieve>1.2 in /home/dawid/miniconda3/envs/dl/lib/python3.12/site-packages (from beautifulsoup4->gdown) (2.5)\n",
      "Requirement already satisfied: charset-normalizer<4,>=2 in /home/dawid/miniconda3/envs/dl/lib/python3.12/site-packages (from requests[socks]->gdown) (3.3.2)\n",
      "Requirement already satisfied: idna<4,>=2.5 in /home/dawid/miniconda3/envs/dl/lib/python3.12/site-packages (from requests[socks]->gdown) (3.6)\n",
      "Requirement already satisfied: urllib3<3,>=1.21.1 in /home/dawid/miniconda3/envs/dl/lib/python3.12/site-packages (from requests[socks]->gdown) (2.2.1)\n",
      "Requirement already satisfied: certifi>=2017.4.17 in /home/dawid/miniconda3/envs/dl/lib/python3.12/site-packages (from requests[socks]->gdown) (2024.2.2)\n",
      "Collecting PySocks!=1.5.7,>=1.5.6 (from requests[socks]->gdown)\n",
      "  Downloading PySocks-1.7.1-py3-none-any.whl.metadata (13 kB)\n",
      "Downloading gdown-5.1.0-py3-none-any.whl (17 kB)\n",
      "Downloading PySocks-1.7.1-py3-none-any.whl (16 kB)\n",
      "Installing collected packages: PySocks, gdown\n",
      "Successfully installed PySocks-1.7.1 gdown-5.1.0\n",
      "Retrieving folder contents\n",
      "Retrieving folder 1TwkISGfIOUwoK4XmDNyKjpWw4TM7HR3Y converted\n",
      "Processing file 17HFEkH03lX3hIe_WwpOpVMpQ4m05ZD4b encoder.pkl\n",
      "Processing file 18hplRkydx9gAaQPnkbqOswUpfgmkqZt3 test_data.pt\n",
      "Processing file 1dUmFaFHcFJkHK6EHBsmp8kbEr5WlqTGO test_labels.json\n",
      "Processing file 19sedJZnpR-er_-NyfONMAJzMCvQdSIS9 train_data.pt\n",
      "Processing file 1lpvMNj1Lx-DloHB2yor96vQZZBBe70pL train_labels.json\n",
      "Processing file 1ATTeQhrd7xyFz-DKwWF_0Ogmr6GPnG_S unlabeled_data.pt\n",
      "Processing file 1eRFuUEBdT6mE2yUZ1hTGnTB8ulipU_ef val_data.pt\n",
      "Processing file 16WtSxNdrjYtoOuvB_OFZkZ9b8g-h-fGz val_labels.json\n",
      "Retrieving folder contents completed\n",
      "Building directory structure\n",
      "Building directory structure completed\n",
      "Downloading...\n",
      "From: https://drive.google.com/uc?id=17HFEkH03lX3hIe_WwpOpVMpQ4m05ZD4b\n",
      "To: /home/dawid/studies/master-1/dl/DeepLearning2024-proj-2/data/converted/encoder.pkl\n",
      "100%|██████████████████████████████████████████| 580/580 [00:00<00:00, 2.45MB/s]\n",
      "Downloading...\n",
      "From (original): https://drive.google.com/uc?id=18hplRkydx9gAaQPnkbqOswUpfgmkqZt3\n",
      "From (redirected): https://drive.google.com/uc?id=18hplRkydx9gAaQPnkbqOswUpfgmkqZt3&confirm=t&uuid=f9bda05d-764e-415d-a57d-52ef62b8bf3a\n",
      "To: /home/dawid/studies/master-1/dl/DeepLearning2024-proj-2/data/converted/test_data.pt\n",
      "100%|█████████████████████████████████████████| 229M/229M [00:02<00:00, 107MB/s]\n",
      "Downloading...\n",
      "From: https://drive.google.com/uc?id=1dUmFaFHcFJkHK6EHBsmp8kbEr5WlqTGO\n",
      "To: /home/dawid/studies/master-1/dl/DeepLearning2024-proj-2/data/converted/test_labels.json\n",
      "100%|██████████████████████████████████████| 22.0k/22.0k [00:00<00:00, 1.74MB/s]\n",
      "Downloading...\n",
      "From (original): https://drive.google.com/uc?id=19sedJZnpR-er_-NyfONMAJzMCvQdSIS9\n",
      "From (redirected): https://drive.google.com/uc?id=19sedJZnpR-er_-NyfONMAJzMCvQdSIS9&confirm=t&uuid=3662c3e3-a174-4eca-aaa6-61b1e66d0887\n",
      "To: /home/dawid/studies/master-1/dl/DeepLearning2024-proj-2/data/converted/train_data.pt\n",
      "100%|██████████████████████████████████████| 1.71G/1.71G [00:19<00:00, 89.5MB/s]\n",
      "Downloading...\n",
      "From: https://drive.google.com/uc?id=1lpvMNj1Lx-DloHB2yor96vQZZBBe70pL\n",
      "To: /home/dawid/studies/master-1/dl/DeepLearning2024-proj-2/data/converted/train_labels.json\n",
      "100%|████████████████████████████████████████| 164k/164k [00:00<00:00, 3.10MB/s]\n",
      "Downloading...\n",
      "From (original): https://drive.google.com/uc?id=1ATTeQhrd7xyFz-DKwWF_0Ogmr6GPnG_S\n",
      "From (redirected): https://drive.google.com/uc?id=1ATTeQhrd7xyFz-DKwWF_0Ogmr6GPnG_S&confirm=t&uuid=be897b8c-5637-4ee6-81a7-54d4007ddf98\n",
      "To: /home/dawid/studies/master-1/dl/DeepLearning2024-proj-2/data/converted/unlabeled_data.pt\n",
      "100%|██████████████████████████████████████| 5.07G/5.07G [00:51<00:00, 98.1MB/s]\n",
      "Downloading...\n",
      "From (original): https://drive.google.com/uc?id=1eRFuUEBdT6mE2yUZ1hTGnTB8ulipU_ef\n",
      "From (redirected): https://drive.google.com/uc?id=1eRFuUEBdT6mE2yUZ1hTGnTB8ulipU_ef&confirm=t&uuid=b12a0a90-d696-49c8-9362-20c365ed0771\n",
      "To: /home/dawid/studies/master-1/dl/DeepLearning2024-proj-2/data/converted/val_data.pt\n",
      "100%|████████████████████████████████████████| 228M/228M [00:02<00:00, 83.9MB/s]\n",
      "Downloading...\n",
      "From: https://drive.google.com/uc?id=16WtSxNdrjYtoOuvB_OFZkZ9b8g-h-fGz\n",
      "To: /home/dawid/studies/master-1/dl/DeepLearning2024-proj-2/data/converted/val_labels.json\n",
      "100%|██████████████████████████████████████| 21.9k/21.9k [00:00<00:00, 1.74MB/s]\n",
      "Download completed\n",
      "Requirement already satisfied: torch==2.2.2 in /home/dawid/miniconda3/envs/dl/lib/python3.12/site-packages (from -r requirements.txt (line 1)) (2.2.2)\n",
      "Requirement already satisfied: torchaudio==2.2.2 in /home/dawid/miniconda3/envs/dl/lib/python3.12/site-packages (from -r requirements.txt (line 2)) (2.2.2)\n",
      "Collecting torchvision==0.17.2 (from -r requirements.txt (line 3))\n",
      "  Downloading torchvision-0.17.2-cp312-cp312-manylinux1_x86_64.whl.metadata (6.6 kB)\n",
      "Requirement already satisfied: loguru==0.7.2 in /home/dawid/miniconda3/envs/dl/lib/python3.12/site-packages (from -r requirements.txt (line 4)) (0.7.2)\n",
      "Requirement already satisfied: pytorch-lightning==2.2.1 in /home/dawid/miniconda3/envs/dl/lib/python3.12/site-packages (from -r requirements.txt (line 5)) (2.2.1)\n",
      "Requirement already satisfied: scikit-learn==1.4.1.post1 in /home/dawid/miniconda3/envs/dl/lib/python3.12/site-packages (from -r requirements.txt (line 6)) (1.4.1.post1)\n",
      "Requirement already satisfied: tensorboard==2.16.2 in /home/dawid/miniconda3/envs/dl/lib/python3.12/site-packages (from -r requirements.txt (line 7)) (2.16.2)\n",
      "Requirement already satisfied: filelock in /home/dawid/miniconda3/envs/dl/lib/python3.12/site-packages (from torch==2.2.2->-r requirements.txt (line 1)) (3.13.1)\n",
      "Requirement already satisfied: typing-extensions>=4.8.0 in /home/dawid/miniconda3/envs/dl/lib/python3.12/site-packages (from torch==2.2.2->-r requirements.txt (line 1)) (4.10.0)\n",
      "Requirement already satisfied: sympy in /home/dawid/miniconda3/envs/dl/lib/python3.12/site-packages (from torch==2.2.2->-r requirements.txt (line 1)) (1.12)\n",
      "Requirement already satisfied: networkx in /home/dawid/miniconda3/envs/dl/lib/python3.12/site-packages (from torch==2.2.2->-r requirements.txt (line 1)) (3.2.1)\n",
      "Requirement already satisfied: jinja2 in /home/dawid/miniconda3/envs/dl/lib/python3.12/site-packages (from torch==2.2.2->-r requirements.txt (line 1)) (3.1.3)\n",
      "Requirement already satisfied: fsspec in /home/dawid/miniconda3/envs/dl/lib/python3.12/site-packages (from torch==2.2.2->-r requirements.txt (line 1)) (2024.2.0)\n",
      "Requirement already satisfied: nvidia-cuda-nvrtc-cu12==12.1.105 in /home/dawid/miniconda3/envs/dl/lib/python3.12/site-packages (from torch==2.2.2->-r requirements.txt (line 1)) (12.1.105)\n",
      "Requirement already satisfied: nvidia-cuda-runtime-cu12==12.1.105 in /home/dawid/miniconda3/envs/dl/lib/python3.12/site-packages (from torch==2.2.2->-r requirements.txt (line 1)) (12.1.105)\n",
      "Requirement already satisfied: nvidia-cuda-cupti-cu12==12.1.105 in /home/dawid/miniconda3/envs/dl/lib/python3.12/site-packages (from torch==2.2.2->-r requirements.txt (line 1)) (12.1.105)\n",
      "Requirement already satisfied: nvidia-cudnn-cu12==8.9.2.26 in /home/dawid/miniconda3/envs/dl/lib/python3.12/site-packages (from torch==2.2.2->-r requirements.txt (line 1)) (8.9.2.26)\n",
      "Requirement already satisfied: nvidia-cublas-cu12==12.1.3.1 in /home/dawid/miniconda3/envs/dl/lib/python3.12/site-packages (from torch==2.2.2->-r requirements.txt (line 1)) (12.1.3.1)\n",
      "Requirement already satisfied: nvidia-cufft-cu12==11.0.2.54 in /home/dawid/miniconda3/envs/dl/lib/python3.12/site-packages (from torch==2.2.2->-r requirements.txt (line 1)) (11.0.2.54)\n",
      "Requirement already satisfied: nvidia-curand-cu12==10.3.2.106 in /home/dawid/miniconda3/envs/dl/lib/python3.12/site-packages (from torch==2.2.2->-r requirements.txt (line 1)) (10.3.2.106)\n",
      "Requirement already satisfied: nvidia-cusolver-cu12==11.4.5.107 in /home/dawid/miniconda3/envs/dl/lib/python3.12/site-packages (from torch==2.2.2->-r requirements.txt (line 1)) (11.4.5.107)\n",
      "Requirement already satisfied: nvidia-cusparse-cu12==12.1.0.106 in /home/dawid/miniconda3/envs/dl/lib/python3.12/site-packages (from torch==2.2.2->-r requirements.txt (line 1)) (12.1.0.106)\n",
      "Requirement already satisfied: nvidia-nccl-cu12==2.19.3 in /home/dawid/miniconda3/envs/dl/lib/python3.12/site-packages (from torch==2.2.2->-r requirements.txt (line 1)) (2.19.3)\n",
      "Requirement already satisfied: nvidia-nvtx-cu12==12.1.105 in /home/dawid/miniconda3/envs/dl/lib/python3.12/site-packages (from torch==2.2.2->-r requirements.txt (line 1)) (12.1.105)\n",
      "Requirement already satisfied: numpy in /home/dawid/miniconda3/envs/dl/lib/python3.12/site-packages (from torchvision==0.17.2->-r requirements.txt (line 3)) (1.26.4)\n",
      "Requirement already satisfied: pillow!=8.3.*,>=5.3.0 in /home/dawid/miniconda3/envs/dl/lib/python3.12/site-packages (from torchvision==0.17.2->-r requirements.txt (line 3)) (10.2.0)\n",
      "Requirement already satisfied: tqdm>=4.57.0 in /home/dawid/miniconda3/envs/dl/lib/python3.12/site-packages (from pytorch-lightning==2.2.1->-r requirements.txt (line 5)) (4.66.2)\n",
      "Requirement already satisfied: PyYAML>=5.4 in /home/dawid/miniconda3/envs/dl/lib/python3.12/site-packages (from pytorch-lightning==2.2.1->-r requirements.txt (line 5)) (6.0.1)\n",
      "Requirement already satisfied: torchmetrics>=0.7.0 in /home/dawid/miniconda3/envs/dl/lib/python3.12/site-packages (from pytorch-lightning==2.2.1->-r requirements.txt (line 5)) (1.3.1)\n",
      "Requirement already satisfied: packaging>=20.0 in /home/dawid/miniconda3/envs/dl/lib/python3.12/site-packages (from pytorch-lightning==2.2.1->-r requirements.txt (line 5)) (23.2)\n",
      "Requirement already satisfied: lightning-utilities>=0.8.0 in /home/dawid/miniconda3/envs/dl/lib/python3.12/site-packages (from pytorch-lightning==2.2.1->-r requirements.txt (line 5)) (0.10.1)\n",
      "Requirement already satisfied: scipy>=1.6.0 in /home/dawid/miniconda3/envs/dl/lib/python3.12/site-packages (from scikit-learn==1.4.1.post1->-r requirements.txt (line 6)) (1.12.0)\n",
      "Requirement already satisfied: joblib>=1.2.0 in /home/dawid/miniconda3/envs/dl/lib/python3.12/site-packages (from scikit-learn==1.4.1.post1->-r requirements.txt (line 6)) (1.3.2)\n",
      "Requirement already satisfied: threadpoolctl>=2.0.0 in /home/dawid/miniconda3/envs/dl/lib/python3.12/site-packages (from scikit-learn==1.4.1.post1->-r requirements.txt (line 6)) (3.3.0)\n",
      "Requirement already satisfied: absl-py>=0.4 in /home/dawid/miniconda3/envs/dl/lib/python3.12/site-packages (from tensorboard==2.16.2->-r requirements.txt (line 7)) (2.1.0)\n",
      "Requirement already satisfied: grpcio>=1.48.2 in /home/dawid/miniconda3/envs/dl/lib/python3.12/site-packages (from tensorboard==2.16.2->-r requirements.txt (line 7)) (1.62.1)\n",
      "Requirement already satisfied: markdown>=2.6.8 in /home/dawid/miniconda3/envs/dl/lib/python3.12/site-packages (from tensorboard==2.16.2->-r requirements.txt (line 7)) (3.5.2)\n",
      "Requirement already satisfied: protobuf!=4.24.0,>=3.19.6 in /home/dawid/miniconda3/envs/dl/lib/python3.12/site-packages (from tensorboard==2.16.2->-r requirements.txt (line 7)) (4.25.3)\n",
      "Requirement already satisfied: setuptools>=41.0.0 in /home/dawid/miniconda3/envs/dl/lib/python3.12/site-packages (from tensorboard==2.16.2->-r requirements.txt (line 7)) (68.2.2)\n",
      "Requirement already satisfied: six>1.9 in /home/dawid/miniconda3/envs/dl/lib/python3.12/site-packages (from tensorboard==2.16.2->-r requirements.txt (line 7)) (1.16.0)\n",
      "Requirement already satisfied: tensorboard-data-server<0.8.0,>=0.7.0 in /home/dawid/miniconda3/envs/dl/lib/python3.12/site-packages (from tensorboard==2.16.2->-r requirements.txt (line 7)) (0.7.2)\n",
      "Requirement already satisfied: werkzeug>=1.0.1 in /home/dawid/miniconda3/envs/dl/lib/python3.12/site-packages (from tensorboard==2.16.2->-r requirements.txt (line 7)) (3.0.1)\n",
      "Requirement already satisfied: nvidia-nvjitlink-cu12 in /home/dawid/miniconda3/envs/dl/lib/python3.12/site-packages (from nvidia-cusolver-cu12==11.4.5.107->torch==2.2.2->-r requirements.txt (line 1)) (12.3.101)\n",
      "Requirement already satisfied: aiohttp!=4.0.0a0,!=4.0.0a1 in /home/dawid/miniconda3/envs/dl/lib/python3.12/site-packages (from fsspec[http]>=2022.5.0->pytorch-lightning==2.2.1->-r requirements.txt (line 5)) (3.9.3)\n",
      "Requirement already satisfied: MarkupSafe>=2.1.1 in /home/dawid/miniconda3/envs/dl/lib/python3.12/site-packages (from werkzeug>=1.0.1->tensorboard==2.16.2->-r requirements.txt (line 7)) (2.1.5)\n",
      "Requirement already satisfied: mpmath>=0.19 in /home/dawid/miniconda3/envs/dl/lib/python3.12/site-packages (from sympy->torch==2.2.2->-r requirements.txt (line 1)) (1.3.0)\n",
      "Requirement already satisfied: aiosignal>=1.1.2 in /home/dawid/miniconda3/envs/dl/lib/python3.12/site-packages (from aiohttp!=4.0.0a0,!=4.0.0a1->fsspec[http]>=2022.5.0->pytorch-lightning==2.2.1->-r requirements.txt (line 5)) (1.3.1)\n",
      "Requirement already satisfied: attrs>=17.3.0 in /home/dawid/miniconda3/envs/dl/lib/python3.12/site-packages (from aiohttp!=4.0.0a0,!=4.0.0a1->fsspec[http]>=2022.5.0->pytorch-lightning==2.2.1->-r requirements.txt (line 5)) (23.2.0)\n",
      "Requirement already satisfied: frozenlist>=1.1.1 in /home/dawid/miniconda3/envs/dl/lib/python3.12/site-packages (from aiohttp!=4.0.0a0,!=4.0.0a1->fsspec[http]>=2022.5.0->pytorch-lightning==2.2.1->-r requirements.txt (line 5)) (1.4.1)\n",
      "Requirement already satisfied: multidict<7.0,>=4.5 in /home/dawid/miniconda3/envs/dl/lib/python3.12/site-packages (from aiohttp!=4.0.0a0,!=4.0.0a1->fsspec[http]>=2022.5.0->pytorch-lightning==2.2.1->-r requirements.txt (line 5)) (6.0.5)\n",
      "Requirement already satisfied: yarl<2.0,>=1.0 in /home/dawid/miniconda3/envs/dl/lib/python3.12/site-packages (from aiohttp!=4.0.0a0,!=4.0.0a1->fsspec[http]>=2022.5.0->pytorch-lightning==2.2.1->-r requirements.txt (line 5)) (1.9.4)\n",
      "Requirement already satisfied: idna>=2.0 in /home/dawid/miniconda3/envs/dl/lib/python3.12/site-packages (from yarl<2.0,>=1.0->aiohttp!=4.0.0a0,!=4.0.0a1->fsspec[http]>=2022.5.0->pytorch-lightning==2.2.1->-r requirements.txt (line 5)) (3.6)\n",
      "Downloading torchvision-0.17.2-cp312-cp312-manylinux1_x86_64.whl (6.9 MB)\n",
      "\u001b[2K   \u001b[38;2;114;156;31m━━━━━━━━━━━━━━━━━━━━━━━━━━━━━━━━━━━━━━━━\u001b[0m \u001b[32m6.9/6.9 MB\u001b[0m \u001b[31m34.6 MB/s\u001b[0m eta \u001b[36m0:00:00\u001b[0m31m24.4 MB/s\u001b[0m eta \u001b[36m0:00:01\u001b[0m\n",
      "\u001b[?25hInstalling collected packages: torchvision\n",
      "  Attempting uninstall: torchvision\n",
      "    Found existing installation: torchvision 0.17.1\n",
      "    Uninstalling torchvision-0.17.1:\n",
      "      Successfully uninstalled torchvision-0.17.1\n",
      "Successfully installed torchvision-0.17.2\n"
     ]
    }
   ],
   "source": [
    "!pip install gdown\n",
    "!gdown --folder https://drive.google.com/drive/folders/18fbeQOzN4BMn09LPnFgWflhTP-r9JJrc?usp=sharing\n",
    "!pip install -r requirements.txt"
   ]
  },
  {
   "cell_type": "code",
   "execution_count": 2,
   "id": "19f0d612-020d-4599-8c9f-629fc20874be",
   "metadata": {},
   "outputs": [
    {
     "name": "stderr",
     "output_type": "stream",
     "text": [
      "/home/dawid/miniconda3/envs/dl/lib/python3.12/site-packages/tqdm/auto.py:21: TqdmWarning: IProgress not found. Please update jupyter and ipywidgets. See https://ipywidgets.readthedocs.io/en/stable/user_install.html\n",
      "  from .autonotebook import tqdm as notebook_tqdm\n",
      "2024-04-13 08:44:45.074078: I tensorflow/core/util/port.cc:113] oneDNN custom operations are on. You may see slightly different numerical results due to floating-point round-off errors from different computation orders. To turn them off, set the environment variable `TF_ENABLE_ONEDNN_OPTS=0`.\n",
      "2024-04-13 08:44:45.452776: I tensorflow/core/platform/cpu_feature_guard.cc:210] This TensorFlow binary is optimized to use available CPU instructions in performance-critical operations.\n",
      "To enable the following instructions: AVX2 AVX512F AVX512_VNNI FMA, in other operations, rebuild TensorFlow with the appropriate compiler flags.\n",
      "2024-04-13 08:44:46.300635: W tensorflow/compiler/tf2tensorrt/utils/py_utils.cc:38] TF-TRT Warning: Could not find TensorRT\n"
     ]
    }
   ],
   "source": [
    "import pytorch_lightning as pl\n",
    "import torch\n",
    "\n",
    "from torch import Tensor, nn\n",
    "from torch.optim.lr_scheduler import ReduceLROnPlateau\n",
    "from pytorch_lightning.callbacks import EarlyStopping\n",
    "\n",
    "from engine.data import get_data_loader\n",
    "from engine.metrics import accuracy\n",
    "from engine.model_base import LightningBaseModule\n",
    "\n",
    "torch.set_float32_matmul_precision(\"medium\")"
   ]
  },
  {
   "cell_type": "code",
   "execution_count": 3,
   "id": "ca3f86db-e733-478f-b35f-365e7137fcbf",
   "metadata": {},
   "outputs": [],
   "source": [
    "train_loader = get_data_loader(\"train\")\n",
    "val_loader = get_data_loader(\"val\")\n",
    "test_loader = get_data_loader(\"test\")"
   ]
  },
  {
   "cell_type": "code",
   "execution_count": 4,
   "id": "3556eb3b-8ad4-4875-b033-2f17bf0a4b3b",
   "metadata": {},
   "outputs": [],
   "source": [
    "EMBEDDING_SIZE = 80\n",
    "\n",
    "\n",
    "class Attention(nn.Module):\n",
    "    def __init__(self):\n",
    "        super().__init__()\n",
    "        self.attention = nn.MultiheadAttention(EMBEDDING_SIZE, 10)\n",
    "        self.activation = nn.ReLU()\n",
    "\n",
    "    def forward(self, X):\n",
    "        output, _ = self.attention(X, X, X)\n",
    "        return self.activation(output)\n",
    "\n",
    "\n",
    "class AttentionBlock(nn.Module):\n",
    "    def __init__(self):\n",
    "        super().__init__()\n",
    "        self.attentions = nn.Sequential(*[Attention() for _ in range(3)])\n",
    "        self.layer_norm = nn.LayerNorm(EMBEDDING_SIZE)\n",
    "\n",
    "    def forward(self, X):\n",
    "        output = self.attentions(X)\n",
    "        output = self.layer_norm(output)\n",
    "        return output + X\n",
    "\n",
    "\n",
    "class AttentionModel(LightningBaseModule):\n",
    "    def __init__(self):\n",
    "        super().__init__()\n",
    "        self.attention_1 = nn.Sequential(*[AttentionBlock() for _ in range(5)])\n",
    "        self.attention_2 = nn.Sequential(*[AttentionBlock() for _ in range(5)])\n",
    "        self.flatten = nn.Flatten()\n",
    "        self.dense = nn.Sequential(\n",
    "            nn.Linear(8000, 1000),\n",
    "            nn.ReLU(),\n",
    "            nn.Linear(1000, 22),\n",
    "            nn.Softmax(dim=1),\n",
    "        )\n",
    "        self.loss = nn.CrossEntropyLoss()\n",
    "\n",
    "    def forward(self, X):\n",
    "        output = self.attention_1(X)\n",
    "        output = self.attention_2(output + X)\n",
    "        output = self.flatten(output)\n",
    "        output = self.dense(output)\n",
    "        return output\n",
    "\n",
    "    def configure_optimizers(self):\n",
    "        optimizer = torch.optim.Adam(self.parameters(), lr=1e-3)\n",
    "        scheduler = ReduceLROnPlateau(optimizer, patience=5)\n",
    "        return [optimizer], [\n",
    "            {\n",
    "                \"scheduler\": scheduler,\n",
    "                \"interval\": \"epoch\",\n",
    "                \"monitor\": \"val_accuracy\",\n",
    "                \"frequency\": 1,\n",
    "            }\n",
    "        ]"
   ]
  },
  {
   "cell_type": "code",
   "execution_count": 5,
   "id": "812de5a6-41fa-47c8-ac9c-118191f16a68",
   "metadata": {},
   "outputs": [
    {
     "name": "stderr",
     "output_type": "stream",
     "text": [
      "GPU available: True (cuda), used: True\n",
      "TPU available: False, using: 0 TPU cores\n",
      "IPU available: False, using: 0 IPUs\n",
      "HPU available: False, using: 0 HPUs\n",
      "Missing logger folder: /home/dawid/studies/master-1/dl/DeepLearning2024-proj-2/lightning_logs\n",
      "LOCAL_RANK: 0 - CUDA_VISIBLE_DEVICES: [0]\n",
      "\n",
      "  | Name        | Type             | Params\n",
      "-------------------------------------------------\n",
      "0 | attention_1 | Sequential       | 389 K \n",
      "1 | attention_2 | Sequential       | 389 K \n",
      "2 | flatten     | Flatten          | 0     \n",
      "3 | dense       | Sequential       | 8.0 M \n",
      "4 | loss        | CrossEntropyLoss | 0     \n",
      "-------------------------------------------------\n",
      "8.8 M     Trainable params\n",
      "0         Non-trainable params\n",
      "8.8 M     Total params\n",
      "35.209    Total estimated model params size (MB)\n"
     ]
    },
    {
     "name": "stdout",
     "output_type": "stream",
     "text": [
      "Sanity Checking DataLoader 0:   0%|          | 0/2 [00:00<?, ?it/s]"
     ]
    },
    {
     "name": "stderr",
     "output_type": "stream",
     "text": [
      "/home/dawid/miniconda3/envs/dl/lib/python3.12/site-packages/pytorch_lightning/trainer/connectors/data_connector.py:441: The 'val_dataloader' does not have many workers which may be a bottleneck. Consider increasing the value of the `num_workers` argument` to `num_workers=15` in the `DataLoader` to improve performance.\n"
     ]
    },
    {
     "name": "stdout",
     "output_type": "stream",
     "text": [
      "                                                                           "
     ]
    },
    {
     "name": "stderr",
     "output_type": "stream",
     "text": [
      "/home/dawid/miniconda3/envs/dl/lib/python3.12/site-packages/pytorch_lightning/trainer/connectors/data_connector.py:441: The 'train_dataloader' does not have many workers which may be a bottleneck. Consider increasing the value of the `num_workers` argument` to `num_workers=15` in the `DataLoader` to improve performance.\n"
     ]
    },
    {
     "name": "stdout",
     "output_type": "stream",
     "text": [
      "Epoch 5: 100%|██████████| 837/837 [00:40<00:00, 20.82it/s, v_num=0, train_step_loss=2.380, val_step_loss=2.570]"
     ]
    },
    {
     "name": "stderr",
     "output_type": "stream",
     "text": [
      "/home/dawid/miniconda3/envs/dl/lib/python3.12/site-packages/pytorch_lightning/trainer/call.py:54: Detected KeyboardInterrupt, attempting graceful shutdown...\n"
     ]
    }
   ],
   "source": [
    "callbacks = [\n",
    "    EarlyStopping(\n",
    "        monitor=\"val_accuracy\",\n",
    "        mode=\"max\",\n",
    "        patience=10,\n",
    "        min_delta=1e-4,\n",
    "    )\n",
    "]\n",
    "\n",
    "model = AttentionModel().cuda()\n",
    "trainer = pl.Trainer(max_epochs=100, callbacks=callbacks)\n",
    "trainer.fit(model, train_loader, val_loader)"
   ]
  },
  {
   "cell_type": "code",
   "execution_count": null,
   "id": "effd1973",
   "metadata": {},
   "outputs": [],
   "source": []
  }
 ],
 "metadata": {
  "kernelspec": {
   "display_name": "Python 3 (ipykernel)",
   "language": "python",
   "name": "python3"
  },
  "language_info": {
   "codemirror_mode": {
    "name": "ipython",
    "version": 3
   },
   "file_extension": ".py",
   "mimetype": "text/x-python",
   "name": "python",
   "nbconvert_exporter": "python",
   "pygments_lexer": "ipython3",
   "version": "3.12.2"
  }
 },
 "nbformat": 4,
 "nbformat_minor": 5
}
